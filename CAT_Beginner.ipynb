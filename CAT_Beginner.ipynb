{
 "cells": [
  {
   "cell_type": "markdown",
   "metadata": {
    "id": "KYy2_-Hh5ZnF"
   },
   "source": [
    "# <center><font color='RED'>**CAT Reloaded Data Science**</center></font>\n",
    "<center>```Beginner's task 1 (python basics)```</center>\n",
    "\n",
    " "
   ]
  },
  {
   "cell_type": "markdown",
   "metadata": {
    "id": "eygnrXtwJYwb"
   },
   "source": [
    "# **1. MCQ** 🖊️\n",
    "\n"
   ]
  },
  {
   "cell_type": "markdown",
   "metadata": {
    "id": "AaeNYlR1JaKW"
   },
   "source": [
    "### <font color='red'> 1) Which of these are **valid** variable names: </font> \n",
    "\n",
    "- [x] `CandyType1`\n",
    "- [x] `candy_type_1`\n",
    "- [ ] `candy$type$1`\n",
    "- [ ] `1_candy_type`\n",
    "- [ ] `candy type 1`\n"
   ]
  },
  {
   "cell_type": "markdown",
   "metadata": {
    "id": "WDhys1bNJaFW"
   },
   "source": [
    "### <font color='red'> 2) Which of these can be an if-statement condition: </font> \n",
    "\n",
    "- [ ] `n > 100 and < 500`\n",
    "- [x] `n > 100 and n < 500`\n",
    "- [ ] `100 < n < 500`\n",
    "\n",
    "\n"
   ]
  },
  {
   "cell_type": "markdown",
   "metadata": {
    "id": "ta6oGEEaJuUf"
   },
   "source": [
    "### <font color='red'> 3) Mark down all the **valid** function-calls for this function: </font> \n",
    "\n",
    "\n",
    "> `def fun1(name, age):`<br> \n",
    "____`return(name,age)`\n",
    "\n",
    "**<font color='red'>Choices:**\n",
    "\n",
    "- [x] `fun1( \"Emma\"  ,  23 )`\n",
    "- [x] `fun1( age = 23  ,  name = \"Emma\" )`\n",
    "- [ ] `fun1( \"Emma\"  ,  age = 23 )` \n",
    "- [ ] `fun1( name = \"Emma\" ,  23 )`\n",
    "- [ ] `fun1( age = 23  ,  \"Emma\" )`\n"
   ]
  },
  {
   "cell_type": "markdown",
   "metadata": {
    "id": "dnz8OoGxTwGV"
   },
   "source": [
    "### <font color='red'> 4) Mark down all the **valid** ways to convert `A7med` to `Ahmed`: </font> \n",
    ">  `s = \"My name is A7med\"`\n",
    "\n",
    "**<font color='red'>Choices:**\n",
    "\n",
    "- [x] `s[12] = \"h\"`\n",
    "- [ ] `s = s.replace(\"7\",\"h\")`\n",
    "- [x] `s = s[:12] + \"h\" + s[13:]`\n"
   ]
  },
  {
   "cell_type": "markdown",
   "metadata": {
    "id": "7Ial-qpwZL76"
   },
   "source": [
    "### <font color='red'> 5) Mark down all the **valid** syntaxes: </font> \n",
    ">  \n",
    "\n",
    "**<font color='red'>Choices:**\n",
    "\n",
    "- [x] <br> `my_list = [\"My\", \"name\" , \"is\" , \"A7med\"]` <br> `my_list [3] = \"Ahmed\"`\n",
    "- [ ] <br> `my_tuple = \"My\", \"name\" , \"is\" , \"A7med\"` <br> `my_tuple [3] = \"Ahmed\"`\n",
    "- [ ] <br>`my_string = \"My name is A7med\"`<br> `s[12] = \"h\"`\n"
   ]
  },
  {
   "cell_type": "markdown",
   "metadata": {
    "id": "vgNAedcIeCTl"
   },
   "source": [
    "### <font color='red'> 6) what is the result of the following boolean expression: </font> \n",
    ">  `print( \"abdelrahman\" > \"yahia\" )`\n",
    "\n",
    "**<font color='red'>Choices:**\n",
    "\n",
    "- [ ] `True`\n",
    "- [x] `False`\n",
    "- [ ] `not valid in python`\n"
   ]
  },
  {
   "cell_type": "markdown",
   "metadata": {
    "id": "ngDeTcfVe9iz"
   },
   "source": [
    "### <font color='red'> 7) what is the result of the following boolean expression: </font> \n",
    ">`my_list = [\"ziad\", \"abdelrahman\" , \"ali\"]`  \n",
    ">`print( max(my_list) )`\n",
    "\n",
    "**<font color='red'>Choices:**\n",
    "\n",
    "- [x] `ziad`\n",
    "- [ ] `abdelrahman`\n",
    "- [ ] `ali`\n",
    "- [ ] `not valid in python`\n"
   ]
  },
  {
   "cell_type": "markdown",
   "metadata": {
    "id": "NI5MimTUcKbR"
   },
   "source": [
    "# **2. Coding** 👨‍💻\n",
    "\n"
   ]
  },
  {
   "cell_type": "markdown",
   "metadata": {
    "id": "g5dNTKC3JaM2"
   },
   "source": [
    "### <font color='green'> 1) Given a dictionary called names with first_name as a key and last_name as a value: </font>\n",
    ">`names = { \"Mark\" : \"Zuckerberg\" , \"Elon\" : \"Musk\" , \"Jeff\" : \"Bezos\" }`\n",
    "\n",
    "### <font color='green'> Write a python code to make the output looks like this: </font>\n",
    "\n",
    ">Mark Z.<br>\n",
    ">Elon M.<br>\n",
    ">Jeff B.\n",
    "\n",
    "\n",
    "\n",
    "---\n",
    "\n"
   ]
  },
  {
   "cell_type": "code",
   "execution_count": 1,
   "metadata": {
    "id": "B9VzFZUlhxK8"
   },
   "outputs": [
    {
     "name": "stdout",
     "output_type": "stream",
     "text": [
      "Mark Z.\n",
      "Elon M.\n",
      "Jeff B.\n"
     ]
    }
   ],
   "source": [
    "names = { \"Mark\" : \"Zuckerberg\" , \"Elon\" : \"Musk\" , \"Jeff\" : \"Bezos\" }\n",
    "for key in names :\n",
    "    print(key +' '+ names[key][0] + \".\" )"
   ]
  },
  {
   "cell_type": "markdown",
   "metadata": {
    "id": "lWXFCYzLJaPL"
   },
   "source": [
    "\n",
    "### <font color='green'> 2) Here is a list with differnt numbers: </font>\n",
    "\n",
    ">`nums = [12, 21, 1, 3, 4, 1, 2, 1, 4, 15, 2, 2 3, 2, 4, 2, 3, 2, 12, 1, 15, 3, 2, 1, 21 ]`\n",
    "### <font color='green'> write a code to get the unique numbers in this list and put them in a tuple:</font>\n",
    "\n",
    "\n",
    "---\n",
    "\n",
    "\n",
    "\n"
   ]
  },
  {
   "cell_type": "code",
   "execution_count": 2,
   "metadata": {
    "id": "jI8YIY636uvF"
   },
   "outputs": [
    {
     "data": {
      "text/plain": [
       "{1, 2, 3, 4, 12, 15, 21}"
      ]
     },
     "execution_count": 2,
     "metadata": {},
     "output_type": "execute_result"
    }
   ],
   "source": [
    "nums = [12, 21, 1, 3, 4, 1, 2, 1, 4, 15, 2, 2, 3, 2, 4, 2, 3, 2, 12, 1, 15, 3, 2, 1, 21 ]\n",
    "set(nums)"
   ]
  },
  {
   "cell_type": "markdown",
   "metadata": {
    "id": "I65A3mLdkPEW"
   },
   "source": [
    "### <font color='green'> 3) write a function that receives an email as a string and changes its domain to \"@catreloaded.com\": </font>\n",
    "\n",
    "\n",
    "##### **<font color='black'>Example:**\n",
    "\n",
    ">`email = \"ahmed@yahoo.com\"` <br>\n",
    ">`new_email = change_domain(email)`<br>\n",
    ">`print(new_email)` <br>\n",
    ">`-----> output: ahmed@catreloaded.com`\n",
    "\n",
    "\n",
    "---\n",
    "\n",
    "\n"
   ]
  },
  {
   "cell_type": "code",
   "execution_count": 3,
   "metadata": {
    "id": "OESMZrkhAXrn"
   },
   "outputs": [
    {
     "name": "stdout",
     "output_type": "stream",
     "text": [
      "ahmed@catreloaded.com\n"
     ]
    }
   ],
   "source": [
    "def change_domain(email) :\n",
    "    index = email.find('@')\n",
    "    email = email[: index] + '@catreloaded.com'\n",
    "    return email\n",
    "\n",
    "email = \"ahmed@yahoo.com\"\n",
    "new_email = change_domain(email)\n",
    "print(new_email)"
   ]
  },
  {
   "cell_type": "markdown",
   "metadata": {
    "id": "V2Qoj_QemV1J"
   },
   "source": [
    "### <font color='green'> 4) Write a function that takes any variable **`n`** and return its factorial: </font>\n",
    "\n",
    ">**hint:** `factorial of 5 = 5 x 4 x 3 x 2 x 1`\n",
    "\n",
    "---\n",
    "\n"
   ]
  },
  {
   "cell_type": "code",
   "execution_count": 4,
   "metadata": {
    "id": "sLFmQTKzoUfO"
   },
   "outputs": [
    {
     "data": {
      "text/plain": [
       "120"
      ]
     },
     "execution_count": 4,
     "metadata": {},
     "output_type": "execute_result"
    }
   ],
   "source": [
    "def fact(n) :\n",
    "    if n == 1 :\n",
    "        return n\n",
    "    else :\n",
    "        return n * fact(n-1)\n",
    "fact(5)"
   ]
  },
  {
   "cell_type": "markdown",
   "metadata": {
    "id": "j3SUIOr8m-Bn"
   },
   "source": [
    "### <font color='green'> 5) use **`list_comprehension`** to get the numbers which are divisible by `7` from `1` to `100`: </font>\n",
    "\n",
    "---\n",
    "\n",
    "\n"
   ]
  },
  {
   "cell_type": "code",
   "execution_count": 5,
   "metadata": {
    "id": "OYt3O9rFAXzl"
   },
   "outputs": [
    {
     "data": {
      "text/plain": [
       "[7, 14, 21, 28, 35, 42, 49, 56, 63, 70, 77, 84, 91, 98]"
      ]
     },
     "execution_count": 5,
     "metadata": {},
     "output_type": "execute_result"
    }
   ],
   "source": [
    "ls = [i for i in range(1 , 101 , 7)]\n",
    "ls = [i for i in range(1,101) if i%7 == 0]\n",
    "ls"
   ]
  },
  {
   "cell_type": "markdown",
   "metadata": {
    "id": "tNTaMEPonfCJ"
   },
   "source": [
    "### <font color='green'> 6) given a string **`st`**: </font>\n",
    "> **st** = `'Friendship is the tree of its seeds tender'`\n",
    "### <font color='green'> use **`list_comprehension`** to create a list of the first letters of every word in **`st`**:\n",
    "\n",
    "---"
   ]
  },
  {
   "cell_type": "code",
   "execution_count": 6,
   "metadata": {
    "id": "y10YXWq36u4E"
   },
   "outputs": [
    {
     "data": {
      "text/plain": [
       "['F',\n",
       " 'r',\n",
       " 'i',\n",
       " 'e',\n",
       " 'n',\n",
       " 'd',\n",
       " 's',\n",
       " 'h',\n",
       " 'i',\n",
       " 'p',\n",
       " 'i',\n",
       " 's',\n",
       " 't',\n",
       " 'h',\n",
       " 'e',\n",
       " 't',\n",
       " 'r',\n",
       " 'e',\n",
       " 'e',\n",
       " 'o',\n",
       " 'f',\n",
       " 'i',\n",
       " 't',\n",
       " 's',\n",
       " 's',\n",
       " 'e',\n",
       " 'e',\n",
       " 'd',\n",
       " 's',\n",
       " 't',\n",
       " 'e',\n",
       " 'n',\n",
       " 'd',\n",
       " 'e',\n",
       " 'r']"
      ]
     },
     "execution_count": 6,
     "metadata": {},
     "output_type": "execute_result"
    }
   ],
   "source": [
    "st = 'Friendship is the tree of its seeds tender'\n",
    "ls = [c for c in st if c.isalpha()]\n",
    "ls"
   ]
  },
  {
   "cell_type": "markdown",
   "metadata": {
    "id": "k81Ns-NSo_Fs"
   },
   "source": [
    "### <font color='green'> 7) sort the following list using two different methods:  **`sort()`** and **`sorted()`**.</font>\n",
    "> **my_list** = `[13, 55, 22, 1, 4]`\n",
    "\n",
    ">🤔 what is the difference between **`sort()`** and **`sorted()`**? 🤔\n",
    "---"
   ]
  },
  {
   "cell_type": "code",
   "execution_count": 7,
   "metadata": {
    "id": "WKaMZjhApsCH"
   },
   "outputs": [
    {
     "data": {
      "text/plain": [
       "[1, 4, 13, 22, 55]"
      ]
     },
     "execution_count": 7,
     "metadata": {},
     "output_type": "execute_result"
    }
   ],
   "source": [
    "my_list = [13, 55, 22, 1, 4]\n",
    "my_list.sort()\n",
    "my_list\n",
    "#sort can only be used with lists , makes changes to the original object"
   ]
  },
  {
   "cell_type": "code",
   "execution_count": 8,
   "metadata": {
    "id": "L7Tt3FcgBR0-"
   },
   "outputs": [
    {
     "data": {
      "text/plain": [
       "[1, 4, 13, 22, 55]"
      ]
     },
     "execution_count": 8,
     "metadata": {},
     "output_type": "execute_result"
    }
   ],
   "source": [
    "my_list = [13, 55, 22, 1, 4]\n",
    "my_list = sorted(my_list)\n",
    "my_list\n",
    "#sorted can be used with sequences as well as set , dictionary. it doesn't change original object"
   ]
  },
  {
   "cell_type": "markdown",
   "metadata": {
    "id": "v37_zeQNsDDq"
   },
   "source": [
    "### <font color='green'> 8) using **`string slicing`**, extract the word **`'rats'`** from **`'I hate the rats'`**, assign it to a new variable, then reverse it:\n",
    "---"
   ]
  },
  {
   "cell_type": "code",
   "execution_count": 9,
   "metadata": {
    "id": "9LYFkmU7tqun"
   },
   "outputs": [
    {
     "data": {
      "text/plain": [
       "'star'"
      ]
     },
     "execution_count": 9,
     "metadata": {},
     "output_type": "execute_result"
    }
   ],
   "source": [
    "rats = 'I hate the rats'[11:]\n",
    "rats = rats[::-1]\n",
    "rats"
   ]
  },
  {
   "cell_type": "markdown",
   "metadata": {
    "id": "_4bQ9-467e3B"
   },
   "source": [
    "# **3. CodeForces Problems** 💡\n",
    "\n"
   ]
  },
  {
   "cell_type": "markdown",
   "metadata": {
    "id": "BmGVTWGw6y39"
   },
   "source": [
    "<a href='https://codeforces.com/group/MWSDmqGsZm/contest/219158/problem/Y?f0a28=1'> <font color='blue'>**Problem 1** (The last 2 digits)</a> </font>\n"
   ]
  },
  {
   "cell_type": "code",
   "execution_count": 10,
   "metadata": {
    "id": "bhFS05Y67vzV"
   },
   "outputs": [
    {
     "name": "stdout",
     "output_type": "stream",
     "text": [
      "434500145 147276606 217842775 236387740\n",
      "00\n"
     ]
    }
   ],
   "source": [
    "#https://codeforces.com/group/MWSDmqGsZm/contest/219158/submission/173711495\n",
    "ls = [int(i) for i in input().split(\" \")]\n",
    "mul = 1\n",
    "for i in  ls :\n",
    "    mul = mul * i\n",
    "index0 = mul%10\n",
    "index1 = (mul//10)%10\n",
    "print(str(index1)+str(index0))"
   ]
  },
  {
   "cell_type": "markdown",
   "metadata": {
    "id": "FSaaKqRw721v"
   },
   "source": [
    "<a href='https://codeforces.com/group/6Yv6FRlDFU/contest/327653/problem/A'> <font color='blue'>**Problem 2** (Fox And Snake)</a> </font> \n",
    "    <br>"
   ]
  },
  {
   "cell_type": "code",
   "execution_count": 11,
   "metadata": {
    "id": "vbabUH7j8KBu"
   },
   "outputs": [
    {
     "name": "stdout",
     "output_type": "stream",
     "text": [
      "9 9\n",
      "#########\n",
      "........#\n",
      "#########\n",
      "#........\n",
      "#########\n",
      "........#\n",
      "#########\n",
      "#........\n",
      "#########\n"
     ]
    }
   ],
   "source": [
    "#https://codeforces.com/group/6Yv6FRlDFU/contest/327653/submission/173714909\n",
    "m,n = [int(i) for i in input().split(' ')]\n",
    "ct = 0\n",
    "for i in range(m) :\n",
    "    if i%2  and ct == 0:\n",
    "        print('.'*(n-1) + '#')\n",
    "        ct = 1\n",
    "    elif i%2 and ct == 1 :\n",
    "        print('#' + '.'*(n-1))\n",
    "        ct = 0\n",
    "    else :\n",
    "        print('#'*n)"
   ]
  }
 ],
 "metadata": {
  "colab": {
   "collapsed_sections": [],
   "provenance": []
  },
  "kernelspec": {
   "display_name": "Python 3",
   "language": "python",
   "name": "python3"
  },
  "language_info": {
   "codemirror_mode": {
    "name": "ipython",
    "version": 3
   },
   "file_extension": ".py",
   "mimetype": "text/x-python",
   "name": "python",
   "nbconvert_exporter": "python",
   "pygments_lexer": "ipython3",
   "version": "3.7.3"
  }
 },
 "nbformat": 4,
 "nbformat_minor": 1
}
